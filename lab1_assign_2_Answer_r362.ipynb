{
 "cells": [
  {
   "cell_type": "markdown",
   "metadata": {},
   "source": [
    "# Read 2 arrays x,y containing floating point values"
   ]
  },
  {
   "cell_type": "code",
   "execution_count": 2,
   "metadata": {},
   "outputs": [
    {
     "name": "stdout",
     "output_type": "stream",
     "text": [
      "x :  [ 1.  2.  3.  8.  5.  6.  7.  8.]\n",
      "y :  [ 1.  2.  3.  4.  5.  6.  7.  8.]\n"
     ]
    }
   ],
   "source": [
    "import numpy as np\n",
    "import pylab as pl\n",
    "x=np.array([1,2,3,8,5,6,7,8],dtype=np.float32)\n",
    "y=np.array([1,2,3,4,5,6,7,8],dtype=np.float32)\n",
    "print(\"x : \",x)\n",
    "print(\"y : \",y)"
   ]
  },
  {
   "cell_type": "markdown",
   "metadata": {},
   "source": [
    "# Calculate mean of x & y"
   ]
  },
  {
   "cell_type": "code",
   "execution_count": 3,
   "metadata": {},
   "outputs": [
    {
     "name": "stdout",
     "output_type": "stream",
     "text": [
      "Mean of x :  5.0\n",
      "Mean of y :  4.5\n"
     ]
    }
   ],
   "source": [
    "mean1=np.mean(x)\n",
    "mean2=np.mean(y)\n",
    "print(\"Mean of x : \",mean1)\n",
    "print(\"Mean of y : \",mean2)"
   ]
  },
  {
   "cell_type": "markdown",
   "metadata": {},
   "source": [
    "# Calculate variance for x variance(x)=sum((x-mean(x))^2)"
   ]
  },
  {
   "cell_type": "code",
   "execution_count": 7,
   "metadata": {},
   "outputs": [
    {
     "name": "stdout",
     "output_type": "stream",
     "text": [
      "variance :  6.5\n"
     ]
    }
   ],
   "source": [
    "var=0\n",
    "for i in np.nditer(x.T):\n",
    "        var+=np.sum(np.square(i-mean1))\n",
    "variace=var/x.size\n",
    "print(\"variance : \",variace) \n"
   ]
  },
  {
   "cell_type": "code",
   "execution_count": null,
   "metadata": {
    "collapsed": true
   },
   "outputs": [],
   "source": []
  },
  {
   "cell_type": "markdown",
   "metadata": {},
   "source": [
    "# Calculate covariance of x & y covariance = sum((x(i) - mean(x)) * (y(i) - mean(y)))"
   ]
  },
  {
   "cell_type": "code",
   "execution_count": 8,
   "metadata": {},
   "outputs": [
    {
     "name": "stdout",
     "output_type": "stream",
     "text": [
      "covariance :  5.71428571429\n"
     ]
    }
   ],
   "source": [
    "if(x.size!=y.size):\n",
    "    print('Array size is different ')\n",
    "else:    \n",
    "    covar=0.0\n",
    "    for i in range(0,len(x)):\n",
    "        covar+=((x[i]-mean1)*(y[i]-mean2))\n",
    "    covariance=covar/(len(x)-1)\n",
    "    print(\"covariance : \",covariance)"
   ]
  },
  {
   "cell_type": "markdown",
   "metadata": {},
   "source": [
    "# Calculate value of m m = covariance(x,y)/variance(x)$$ "
   ]
  },
  {
   "cell_type": "code",
   "execution_count": 9,
   "metadata": {},
   "outputs": [
    {
     "name": "stdout",
     "output_type": "stream",
     "text": [
      "value m :  0.879120879121\n"
     ]
    }
   ],
   "source": [
    "m=covariance/variace\n",
    "print(\"value m : \",m)"
   ]
  },
  {
   "cell_type": "markdown",
   "metadata": {},
   "source": [
    "# Calculate value of c cc = mean(y) -m* mean(x)"
   ]
  },
  {
   "cell_type": "code",
   "execution_count": 10,
   "metadata": {},
   "outputs": [
    {
     "name": "stdout",
     "output_type": "stream",
     "text": [
      "value c :  0.104395604396\n"
     ]
    }
   ],
   "source": [
    "cc=mean2-m*mean1\n",
    "print(\"value c : \", cc)"
   ]
  },
  {
   "cell_type": "markdown",
   "metadata": {},
   "source": [
    "# PART B\n",
    "\n",
    "#Plot graph for actual values against predicted value"
   ]
  },
  {
   "cell_type": "code",
   "execution_count": 11,
   "metadata": {},
   "outputs": [
    {
     "data": {
      "image/png": "[encoded data removed]",
      "text/plain": [
       "<matplotlib.figure.Figure at 0x7f4d945c23c8>"
      ]
     },
     "metadata": {},
     "output_type": "display_data"
    }
   ],
   "source": [
    "    pl.plot(x,y)\n",
    "    pl.title(\"Graph\")\n",
    "    pl.show()"
   ]
  },
  {
   "cell_type": "markdown",
   "metadata": {},
   "source": [
    "# Calculate root mean square error"
   ]
  },
  {
   "cell_type": "code",
   "execution_count": 12,
   "metadata": {},
   "outputs": [
    {
     "name": "stdout",
     "output_type": "stream",
     "text": [
      "Root mean square Error :  1.41421\n"
     ]
    }
   ],
   "source": [
    "rmse=np.sqrt(np.mean(np.square(x - y)))\n",
    "print(\"Root mean square Error : \",rmse)"
   ]
  },
  {
   "cell_type": "code",
   "execution_count": null,
   "metadata": {
    "collapsed": true
   },
   "outputs": [],
   "source": []
  }
 ],
 "metadata": {
  "kernelspec": {
   "display_name": "Python 3",
   "language": "python",
   "name": "python3"
  },
  "language_info": {
   "codemirror_mode": {
    "name": "ipython",
    "version": 3
   },
   "file_extension": ".py",
   "mimetype": "text/x-python",
   "name": "python",
   "nbconvert_exporter": "python",
   "pygments_lexer": "ipython3",
   "version": "3.6.1"
  }
 },
 "nbformat": 4,
 "nbformat_minor": 2
}
