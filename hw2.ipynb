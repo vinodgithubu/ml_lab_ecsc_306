{
 "cells": [
  {
   "cell_type": "code",
   "execution_count": 2,
   "metadata": {},
   "outputs": [
    {
     "name": "stdout",
     "output_type": "stream",
     "text": [
      "49\n"
     ]
    }
   ],
   "source": [
    "import tensorflow as tf\n",
    "a=7\n",
    "b=4\n",
    "c=4\n",
    "aa=tf.pow(a,2)\n",
    "bb=tf.pow(b,2)\n",
    "cc=tf.pow(c,2)\n",
    "add1=tf.add(aa,bb,)\n",
    "add2=tf.add(add1,cc,)\n",
    "mul1=tf.multiply(a,b,)#\n",
    "mul2=tf.multiply(2,mul1,)#2ab\n",
    "add3=tf.add(add2,mul2,)\n",
    "mul4=tf.multiply(b,c,)#\n",
    "mul5=tf.multiply(2,mul4,)#2bc\n",
    "sub1=tf.subtract(add3,mul5)\n",
    "mul6=tf.multiply(a,c)#\n",
    "mul7=tf.multiply(mul6,2,)#2ac\n",
    "sub2=tf.subtract(sub1,mul7)\n",
    "with tf.Session() as sess:\n",
    "    writer = tf.summary.FileWriter(\"/tmp/tboard/output_2\", sess.graph)\n",
    "    print(sess.run(sub2))\n",
    "    writer.close()"
   ]
  },
  {
   "cell_type": "code",
   "execution_count": 18,
   "metadata": {},
   "outputs": [
    {
     "name": "stdout",
     "output_type": "stream",
     "text": [
      "36\n"
     ]
    }
   ],
   "source": []
  },
  {
   "cell_type": "code",
   "execution_count": null,
   "metadata": {
    "collapsed": true
   },
   "outputs": [],
   "source": []
  }
 ],
 "metadata": {
  "kernelspec": {
   "display_name": "Python 3",
   "language": "python",
   "name": "python3"
  },
  "language_info": {
   "codemirror_mode": {
    "name": "ipython",
    "version": 3
   },
   "file_extension": ".py",
   "mimetype": "text/x-python",
   "name": "python",
   "nbconvert_exporter": "python",
   "pygments_lexer": "ipython3",
   "version": "3.6.1"
  }
 },
 "nbformat": 4,
 "nbformat_minor": 2
}
