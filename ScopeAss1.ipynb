{
 "cells": [
  {
   "cell_type": "code",
   "execution_count": 1,
   "metadata": {},
   "outputs": [
    {
     "name": "stdout",
     "output_type": "stream",
     "text": [
      "16\n"
     ]
    }
   ],
   "source": [
    "import tensorflow as tf\n",
    "with tf.name_scope(\"MyOperationGroup\"):\n",
    "    with tf.name_scope(\"Scope_A\"):\n",
    "        a = 6\n",
    "        c = tf.pow(a,2,name=\"a2\") \n",
    "    with tf.name_scope(\"Scope_B\"):\n",
    "        b = 2\n",
    "        d = tf.pow(b,2,name=\"b2\")\n",
    "    with tf.name_scope(\"Scope_C\"): \n",
    "        g = tf.multiply(tf.multiply(2,a),b,name=\"2ab\")\n",
    "    with tf.name_scope(\"Scope_D\"):\n",
    "        e = tf.add(c,d,name=\"add_a2_and_b2\")\n",
    "    with tf.name_scope(\"Scope_E\"):\n",
    "        h = tf.subtract(e,g,name=\"sub_a2_and_b2_with_2ab\")\n",
    "\n",
    "with tf.Session() as sess:\n",
    "    writer = tf.summary.FileWriter(\"/home/jsr/Desktop/ml/ml_lab_ecsc_306/hw/output1\", sess.graph)\n",
    "    print(sess.run(h))\n",
    "    writer.close()\n"
   ]
  }
 ],
 "metadata": {
  "kernelspec": {
   "display_name": "Python 3",
   "language": "python",
   "name": "python3"
  },
  "language_info": {
   "codemirror_mode": {
    "name": "ipython",
    "version": 3
   },
   "file_extension": ".py",
   "mimetype": "text/x-python",
   "name": "python",
   "nbconvert_exporter": "python",
   "pygments_lexer": "ipython3",
   "version": "3.6.1"
  }
 },
 "nbformat": 4,
 "nbformat_minor": 2
}
