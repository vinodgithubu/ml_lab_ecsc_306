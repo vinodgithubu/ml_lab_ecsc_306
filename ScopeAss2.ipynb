{
 "cells": [
  {
   "cell_type": "code",
   "execution_count": 1,
   "metadata": {},
   "outputs": [
    {
     "name": "stdout",
     "output_type": "stream",
     "text": [
      "49\n"
     ]
    }
   ],
   "source": [
    "import tensorflow as tf\n",
    "\n",
    "\n",
    "\n",
    "with tf.name_scope(\"MyOperationGroup\"):\n",
    "    with tf.name_scope(\"Scope_A\"):\n",
    "        a=7\n",
    "        aa=tf.pow(a,2)\n",
    "    with tf.name_scope(\"Scope_B\"):\n",
    "        b=4\n",
    "        bb=tf.pow(b,2)\n",
    "    with tf.name_scope(\"Scope_c\"):\n",
    "        c=4\n",
    "        cc=tf.pow(c,2)\n",
    "    with tf.name_scope(\"sum_aa_bb_cc\"):\n",
    "        add2=tf.add(tf.add(aa,bb,),cc,)#aa+bb+cc\n",
    "    with tf.name_scope(\"Scope_2ab\"):\n",
    "        mul2=tf.multiply(2,tf.multiply(a,b))#2ab\n",
    "    with tf.name_scope(\"sum_aa_bb_cc_2ab\"):        \n",
    "        add3=tf.add(add2,mul2,)\n",
    "    with tf.name_scope(\"Scope_2bc\"): \n",
    "        mul5=tf.multiply(2,tf.multiply(b,c))#2bc\n",
    "    with tf.name_scope(\"sub_aa_bb_cc_2ab_2bc\"): \n",
    "        sub1=tf.subtract(add3,mul5)\n",
    "    with tf.name_scope(\"Scope_2bc\"):                 \n",
    "        mul7=tf.multiply(2,tf.multiply(a,c))#2ac\n",
    "    with tf.name_scope(\"sub_aa_bb_cc_2ab_2bc_2ac\"): \n",
    "        sub2=tf.subtract(sub1,mul7)\n",
    "with tf.Session() as sess:\n",
    "    writer = tf.summary.FileWriter(\"/tmp/tboard/output_2\", sess.graph)\n",
    "    print(sess.run(sub2))\n",
    "    writer.close()"
   ]
  },
  {
   "cell_type": "code",
   "execution_count": null,
   "metadata": {},
   "outputs": [],
   "source": []
  },
  {
   "cell_type": "code",
   "execution_count": null,
   "metadata": {
    "collapsed": true
   },
   "outputs": [],
   "source": []
  }
 ],
 "metadata": {
  "kernelspec": {
   "display_name": "Python 3",
   "language": "python",
   "name": "python3"
  },
  "language_info": {
   "codemirror_mode": {
    "name": "ipython",
    "version": 3
   },
   "file_extension": ".py",
   "mimetype": "text/x-python",
   "name": "python",
   "nbconvert_exporter": "python",
   "pygments_lexer": "ipython3",
   "version": "3.6.1"
  }
 },
 "nbformat": 4,
 "nbformat_minor": 2
}
