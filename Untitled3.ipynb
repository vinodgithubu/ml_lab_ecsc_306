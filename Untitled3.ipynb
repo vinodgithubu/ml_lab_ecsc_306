{
 "cells": [
  {
   "cell_type": "code",
   "execution_count": 32,
   "metadata": {},
   "outputs": [
    {
     "name": "stdout",
     "output_type": "stream",
     "text": [
      "(1.0, 1.0)\n"
     ]
    }
   ],
   "source": [
    "import tensorflow as tf\n",
    "import numpy as np\n",
    "data1 = [(0.000000,95.364693) ,\n",
    "    (1.000000,97.217205) ,\n",
    "    (2.0000,75.195834),\n",
    "    (3.000000,60.105519) ,\n",
    "    (4.,49.342380),\n",
    "    (5.,37.400286),\n",
    "    (11.0, -4.383926),\n",
    "    (12.0,-22.858197),\n",
    "    (13.0,-37.758333),\n",
    "    (14.0,-45.606221)]\n",
    "\n",
    "\n",
    "\n",
    "def grident_d(data, learning_rate, variance):\n",
    "\n",
    "    theta0_guess = 1.\n",
    "    theta1_guess = 1.\n",
    "\n",
    "\n",
    "    theta0_priv = 10.\n",
    "    theta1_priv = 10.\n",
    "\n",
    "    m = len(data)\n",
    "\n",
    "    while (abs(theta1_guess-theta1_priv) > variance or abs(theta0_guess - theta0_priv) > variance):\n",
    "\n",
    "        theta1_priv = theta1_guess\n",
    "        theta0_priv = theta0_guess\n",
    "\n",
    "        hypothesis =lambda x: theta1_guess*x + theta0_guess\n",
    "\n",
    "        theta0_guess -=  learning_rate * (1./(2*m)) * sum([hypothesis(point[0]) - point[1] for point in data])\n",
    "        theta1_guess -=  learning_rate * (1./(2*m)) * sum([ (hypothesis(point[0]) - point[1]) * point[0] for point in data])   \n",
    "\n",
    "    return ( theta0_guess,theta1_guess )\n",
    "\n",
    "\n",
    "\n",
    "points = [(float(x),float(y)) for (x,y) in data1]\n",
    "v=np.var(data1)\n",
    "\n",
    "res = grident_d(points,0.001,v)\n",
    "print(res)"
   ]
  }
 ],
 "metadata": {
  "kernelspec": {
   "display_name": "Python 3",
   "language": "python",
   "name": "python3"
  },
  "language_info": {
   "codemirror_mode": {
    "name": "ipython",
    "version": 3
   },
   "file_extension": ".py",
   "mimetype": "text/x-python",
   "name": "python",
   "nbconvert_exporter": "python",
   "pygments_lexer": "ipython3",
   "version": "3.6.1"
  }
 },
 "nbformat": 4,
 "nbformat_minor": 2
}
